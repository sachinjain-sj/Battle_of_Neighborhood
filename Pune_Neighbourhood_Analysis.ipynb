{
    "cells": [
        {
            "metadata": {
                "collapsed": true
            },
            "cell_type": "markdown",
            "source": "## Predicting the target locations to open a Chinese Restaurant in Pune, India\n\n### Introduction: Business Problem\n\nIn this project we will try to find an optimal location for a restaurant. Specifically, this report will be targeted to stakeholders interested in opening a Chinese restaurant in Pune, India.\nSince there are lots of restaurants in Pune we will try to detect locations that are not already crowded with restaurants. We are also particularly interested in areas with no Chinese restaurants in vicinity. We would also prefer locations as close to city centre as possible, assuming that first two conditions are met.\nWe will use our data science powers to generate a few most promising neighbourhoods based on this criterion. Advantages of each area will then be clearly expressed so that best possible final location can be chosen by stakeholders.\n\n### Data\n\nBased on definition of our problem, factors that will influence our decision are:\n\u2022\tnumber of existing restaurants in the neighbourhood (any type of restaurant)\n\u2022\tnumber of and distance to Italian restaurants in the neighbourhood, if any\n\u2022\tdistance of neighbourhood from city centre\nWe decided to use regularly spaced grid of locations, centred around city centre, to define our neighbourhoods.\nFollowing data sources will be needed to extract/generate the required information:\n\u2022\tcentres of candidate areas will be generated algorithmically and approximate addresses of centres of those areas will be obtained using Geopy Nominatim\n\u2022\tnumber of restaurants and their type and location in every neighbourhood will be obtained using Foursquare API\n\u2022\tcoordinate of Pune centre will be obtained using Geopy Nominatim of well-known Pune location (Shivajinagar)\n\n\n"
        },
        {
            "metadata": {},
            "cell_type": "code",
            "source": "",
            "execution_count": null,
            "outputs": []
        }
    ],
    "metadata": {
        "kernelspec": {
            "name": "python3",
            "display_name": "Python 3.7",
            "language": "python"
        },
        "language_info": {
            "name": "python",
            "version": "3.7.10",
            "mimetype": "text/x-python",
            "codemirror_mode": {
                "name": "ipython",
                "version": 3
            },
            "pygments_lexer": "ipython3",
            "nbconvert_exporter": "python",
            "file_extension": ".py"
        }
    },
    "nbformat": 4,
    "nbformat_minor": 1
}